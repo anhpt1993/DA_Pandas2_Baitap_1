{
 "cells": [
  {
   "cell_type": "markdown",
   "id": "ba1219fa-a8af-4d15-8127-75c6653ed0d8",
   "metadata": {},
   "source": [
    "# 0. Import các thư viện cần thiết"
   ]
  },
  {
   "cell_type": "code",
   "execution_count": 1,
   "id": "09ad0123-d5b1-4a41-b2b3-04cd9e793239",
   "metadata": {},
   "outputs": [],
   "source": [
    "import pandas as pd\n",
    "import numpy as np\n",
    "import matplotlib.pyplot as plt"
   ]
  },
  {
   "cell_type": "markdown",
   "id": "70509615-6f5d-4d25-849f-bc2fdde6a3f2",
   "metadata": {},
   "source": [
    "# 1. Đọc dữ liệu từ file CSV"
   ]
  },
  {
   "cell_type": "code",
   "execution_count": 2,
   "id": "deb47eb1-2618-4090-b360-cc842d31f2f9",
   "metadata": {},
   "outputs": [
    {
     "data": {
      "text/html": [
       "<div>\n",
       "<style scoped>\n",
       "    .dataframe tbody tr th:only-of-type {\n",
       "        vertical-align: middle;\n",
       "    }\n",
       "\n",
       "    .dataframe tbody tr th {\n",
       "        vertical-align: top;\n",
       "    }\n",
       "\n",
       "    .dataframe thead th {\n",
       "        text-align: right;\n",
       "    }\n",
       "</style>\n",
       "<table border=\"1\" class=\"dataframe\">\n",
       "  <thead>\n",
       "    <tr style=\"text-align: right;\">\n",
       "      <th></th>\n",
       "      <th>Country</th>\n",
       "      <th>Continent</th>\n",
       "      <th>GDP (millions of US$)</th>\n",
       "    </tr>\n",
       "  </thead>\n",
       "  <tbody>\n",
       "    <tr>\n",
       "      <th>0</th>\n",
       "      <td>Afghanistan</td>\n",
       "      <td>Asia</td>\n",
       "      <td>18181</td>\n",
       "    </tr>\n",
       "    <tr>\n",
       "      <th>1</th>\n",
       "      <td>Albania</td>\n",
       "      <td>Europe</td>\n",
       "      <td>12847</td>\n",
       "    </tr>\n",
       "    <tr>\n",
       "      <th>2</th>\n",
       "      <td>Algeria</td>\n",
       "      <td>Africa</td>\n",
       "      <td>190709</td>\n",
       "    </tr>\n",
       "    <tr>\n",
       "      <th>3</th>\n",
       "      <td>Angola</td>\n",
       "      <td>Africa</td>\n",
       "      <td>100948</td>\n",
       "    </tr>\n",
       "    <tr>\n",
       "      <th>4</th>\n",
       "      <td>Argentina</td>\n",
       "      <td>South America</td>\n",
       "      <td>447644</td>\n",
       "    </tr>\n",
       "    <tr>\n",
       "      <th>...</th>\n",
       "      <td>...</td>\n",
       "      <td>...</td>\n",
       "      <td>...</td>\n",
       "    </tr>\n",
       "    <tr>\n",
       "      <th>120</th>\n",
       "      <td>Uzbekistan</td>\n",
       "      <td>Asia</td>\n",
       "      <td>45353</td>\n",
       "    </tr>\n",
       "    <tr>\n",
       "      <th>121</th>\n",
       "      <td>Venezuela</td>\n",
       "      <td>South America</td>\n",
       "      <td>315841</td>\n",
       "    </tr>\n",
       "    <tr>\n",
       "      <th>122</th>\n",
       "      <td>Vietnam</td>\n",
       "      <td>Asia</td>\n",
       "      <td>122722</td>\n",
       "    </tr>\n",
       "    <tr>\n",
       "      <th>123</th>\n",
       "      <td>Yemen</td>\n",
       "      <td>Africa</td>\n",
       "      <td>33675</td>\n",
       "    </tr>\n",
       "    <tr>\n",
       "      <th>124</th>\n",
       "      <td>Zambia</td>\n",
       "      <td>Africa</td>\n",
       "      <td>19206</td>\n",
       "    </tr>\n",
       "  </tbody>\n",
       "</table>\n",
       "<p>125 rows × 3 columns</p>\n",
       "</div>"
      ],
      "text/plain": [
       "          Country      Continent  GDP (millions of US$)\n",
       "0     Afghanistan           Asia                  18181\n",
       "1         Albania         Europe                  12847\n",
       "2         Algeria         Africa                 190709\n",
       "3          Angola         Africa                 100948\n",
       "4       Argentina  South America                 447644\n",
       "..            ...            ...                    ...\n",
       "120    Uzbekistan           Asia                  45353\n",
       "121     Venezuela  South America                 315841\n",
       "122       Vietnam           Asia                 122722\n",
       "123         Yemen         Africa                  33675\n",
       "124        Zambia         Africa                  19206\n",
       "\n",
       "[125 rows x 3 columns]"
      ]
     },
     "execution_count": 2,
     "metadata": {},
     "output_type": "execute_result"
    }
   ],
   "source": [
    "df = pd.read_csv(\"https://s3.ap-southeast-1.amazonaws.com/learn.codegym.vn/media/public/2021/12/31020936/GDPlist.csv\", encoding = \"ISO-8859-1\")\n",
    "df"
   ]
  },
  {
   "cell_type": "code",
   "execution_count": 3,
   "id": "afd69efe-e286-41c3-a9f1-88052dd26cbe",
   "metadata": {},
   "outputs": [
    {
     "name": "stdout",
     "output_type": "stream",
     "text": [
      "<class 'pandas.core.frame.DataFrame'>\n",
      "RangeIndex: 125 entries, 0 to 124\n",
      "Data columns (total 3 columns):\n",
      " #   Column                 Non-Null Count  Dtype \n",
      "---  ------                 --------------  ----- \n",
      " 0   Country                125 non-null    object\n",
      " 1   Continent              125 non-null    object\n",
      " 2   GDP (millions of US$)  125 non-null    int64 \n",
      "dtypes: int64(1), object(2)\n",
      "memory usage: 3.1+ KB\n"
     ]
    }
   ],
   "source": [
    "df.info()"
   ]
  },
  {
   "cell_type": "markdown",
   "id": "b88950d5-0e7c-4352-9775-25984e081375",
   "metadata": {},
   "source": [
    "# 2. Tính giá trị lớn nhất và nhỏ nhất của GDP"
   ]
  },
  {
   "cell_type": "code",
   "execution_count": 4,
   "id": "f773094d-be00-49d3-b2f2-9e80ed4da83b",
   "metadata": {},
   "outputs": [
    {
     "data": {
      "text/plain": [
       "0       18181\n",
       "1       12847\n",
       "2      190709\n",
       "3      100948\n",
       "4      447644\n",
       "        ...  \n",
       "120     45353\n",
       "121    315841\n",
       "122    122722\n",
       "123     33675\n",
       "124     19206\n",
       "Name: GDP (millions of US$), Length: 125, dtype: int64"
      ]
     },
     "execution_count": 4,
     "metadata": {},
     "output_type": "execute_result"
    }
   ],
   "source": [
    "# Xét biến định lượng GDP\n",
    "df_gdp = df.loc[:,\"GDP (millions of US$)\"]\n",
    "df_gdp"
   ]
  },
  {
   "cell_type": "code",
   "execution_count": 5,
   "id": "2fb3d222-a40b-4147-b137-4614beff27be",
   "metadata": {},
   "outputs": [
    {
     "data": {
      "text/plain": [
       "15094025"
      ]
     },
     "execution_count": 5,
     "metadata": {},
     "output_type": "execute_result"
    }
   ],
   "source": [
    "# Giá trị GDP lớn nhất\n",
    "df_gdp.max()"
   ]
  },
  {
   "cell_type": "code",
   "execution_count": 6,
   "id": "de68117a-dde5-45c7-85ad-1497d15fa97e",
   "metadata": {},
   "outputs": [
    {
     "data": {
      "text/plain": [
       "10600"
      ]
     },
     "execution_count": 6,
     "metadata": {},
     "output_type": "execute_result"
    }
   ],
   "source": [
    "# Giá trị GDP nhỏ nhất\n",
    "df_gdp.min()"
   ]
  },
  {
   "cell_type": "markdown",
   "id": "0a583104-2e48-48b1-b6cc-c1da2235dff8",
   "metadata": {},
   "source": [
    "# 3. Xu hướng phân bố dữ liệu của GDP"
   ]
  },
  {
   "cell_type": "code",
   "execution_count": 7,
   "id": "69f68636-a4e3-4d8a-a90b-5cf8f43dc393",
   "metadata": {},
   "outputs": [
    {
     "data": {
      "text/plain": [
       "10600"
      ]
     },
     "execution_count": 7,
     "metadata": {},
     "output_type": "execute_result"
    }
   ],
   "source": [
    "# Số giá trị GDP xuất hiện nhiều nhất\n",
    "df_gdp.mode()[0]"
   ]
  },
  {
   "cell_type": "code",
   "execution_count": 8,
   "id": "ff034def-c571-499e-b494-6799835a35df",
   "metadata": {},
   "outputs": [
    {
     "data": {
      "text/plain": [
       "96089.0"
      ]
     },
     "execution_count": 8,
     "metadata": {},
     "output_type": "execute_result"
    }
   ],
   "source": [
    "# Giá trị trung vị của GDP\n",
    "df_gdp.median()"
   ]
  },
  {
   "cell_type": "code",
   "execution_count": 9,
   "id": "7ac605ad-1206-4db3-a105-ee3a5596f9de",
   "metadata": {},
   "outputs": [
    {
     "data": {
      "text/plain": [
       "555427.784"
      ]
     },
     "execution_count": 9,
     "metadata": {},
     "output_type": "execute_result"
    }
   ],
   "source": [
    "# Giá trị trung bình của GDP\n",
    "df_gdp.mean()"
   ]
  },
  {
   "cell_type": "markdown",
   "id": "27c87c6b-eef9-45e7-9370-b0e6c2b4cb79",
   "metadata": {},
   "source": [
    "Kết luận:\n",
    "+) Mode < median < mean: Dữ liệu phân bố lệch phải\n",
    "Các câu hỏi chưa có lời giải đáp:\n",
    "- Dữ liệu lệch phải là tốt hay xấu, nếu là xấu thì cần làm gì?\n",
    "- Trong các kiểu phân bố dữ liệu thì mong muốn nhất sẽ rơi vào phân bố nào?\n",
    "..."
   ]
  },
  {
   "cell_type": "markdown",
   "id": "fed786af-b7b0-4110-b04b-23a4950f2b79",
   "metadata": {},
   "source": [
    "# 4. Châu lục xuất hiện nhiều nhất"
   ]
  },
  {
   "cell_type": "code",
   "execution_count": 10,
   "id": "feb0946b-43a1-4e1f-90b0-c6e09fa1ef8c",
   "metadata": {},
   "outputs": [
    {
     "data": {
      "text/plain": [
       "0               Asia\n",
       "1             Europe\n",
       "2             Africa\n",
       "3             Africa\n",
       "4      South America\n",
       "           ...      \n",
       "120             Asia\n",
       "121    South America\n",
       "122             Asia\n",
       "123           Africa\n",
       "124           Africa\n",
       "Name: Continent, Length: 125, dtype: object"
      ]
     },
     "execution_count": 10,
     "metadata": {},
     "output_type": "execute_result"
    }
   ],
   "source": [
    "# Xét biến định tính \"Continent\"\n",
    "df_cont = df.loc[:, \"Continent\"]\n",
    "df_cont"
   ]
  },
  {
   "cell_type": "code",
   "execution_count": 11,
   "id": "6c3c8c92-25ff-4ad5-a2e5-699f8963ced8",
   "metadata": {},
   "outputs": [
    {
     "data": {
      "text/plain": [
       "'Europe'"
      ]
     },
     "execution_count": 11,
     "metadata": {},
     "output_type": "execute_result"
    }
   ],
   "source": [
    "# Châu lục xuất hiện nhiều nhất\n",
    "df_cont.mode()[0]"
   ]
  },
  {
   "cell_type": "code",
   "execution_count": 12,
   "id": "16cfd6f4-293c-4f8b-a2f9-269812a7b93b",
   "metadata": {},
   "outputs": [
    {
     "data": {
      "text/plain": [
       "count        125\n",
       "unique         6\n",
       "top       Europe\n",
       "freq          37\n",
       "Name: Continent, dtype: object"
      ]
     },
     "execution_count": 12,
     "metadata": {},
     "output_type": "execute_result"
    }
   ],
   "source": [
    "df_cont.describe()"
   ]
  },
  {
   "cell_type": "markdown",
   "id": "377ff6f6-872f-48b6-9b06-0204aa5fc144",
   "metadata": {},
   "source": [
    "# 5. Tính tổng GPD và trung bình cộng GDP mỗi châu lục. Hợp nhất thành một bảng duy nhất gồm 3 thông tin: Tên châu lục, Tổng GDP, TBC GDP"
   ]
  },
  {
   "cell_type": "code",
   "execution_count": 13,
   "id": "186e1686-c067-4511-9cd3-56684b287713",
   "metadata": {},
   "outputs": [
    {
     "data": {
      "text/html": [
       "<div>\n",
       "<style scoped>\n",
       "    .dataframe tbody tr th:only-of-type {\n",
       "        vertical-align: middle;\n",
       "    }\n",
       "\n",
       "    .dataframe tbody tr th {\n",
       "        vertical-align: top;\n",
       "    }\n",
       "\n",
       "    .dataframe thead th {\n",
       "        text-align: right;\n",
       "    }\n",
       "</style>\n",
       "<table border=\"1\" class=\"dataframe\">\n",
       "  <thead>\n",
       "    <tr style=\"text-align: right;\">\n",
       "      <th></th>\n",
       "      <th>GDP (millions of US$)</th>\n",
       "    </tr>\n",
       "    <tr>\n",
       "      <th>Continent</th>\n",
       "      <th></th>\n",
       "    </tr>\n",
       "  </thead>\n",
       "  <tbody>\n",
       "    <tr>\n",
       "      <th>Africa</th>\n",
       "      <td>1820811</td>\n",
       "    </tr>\n",
       "    <tr>\n",
       "      <th>Asia</th>\n",
       "      <td>24425891</td>\n",
       "    </tr>\n",
       "    <tr>\n",
       "      <th>Europe</th>\n",
       "      <td>19139380</td>\n",
       "    </tr>\n",
       "    <tr>\n",
       "      <th>North America</th>\n",
       "      <td>18238447</td>\n",
       "    </tr>\n",
       "    <tr>\n",
       "      <th>Oceania</th>\n",
       "      <td>1662727</td>\n",
       "    </tr>\n",
       "    <tr>\n",
       "      <th>South America</th>\n",
       "      <td>4141217</td>\n",
       "    </tr>\n",
       "  </tbody>\n",
       "</table>\n",
       "</div>"
      ],
      "text/plain": [
       "               GDP (millions of US$)\n",
       "Continent                           \n",
       "Africa                       1820811\n",
       "Asia                        24425891\n",
       "Europe                      19139380\n",
       "North America               18238447\n",
       "Oceania                      1662727\n",
       "South America                4141217"
      ]
     },
     "execution_count": 13,
     "metadata": {},
     "output_type": "execute_result"
    }
   ],
   "source": [
    "# tính tổng GDP của mỗi châu lục\n",
    "df1 = df.pivot_table(values = \"GDP (millions of US$)\", index = \"Continent\", aggfunc = \"sum\")\n",
    "df1"
   ]
  },
  {
   "cell_type": "code",
   "execution_count": 24,
   "id": "c0626d3b-bc64-4d23-bb35-27f3442b1e6a",
   "metadata": {},
   "outputs": [
    {
     "data": {
      "text/html": [
       "<div>\n",
       "<style scoped>\n",
       "    .dataframe tbody tr th:only-of-type {\n",
       "        vertical-align: middle;\n",
       "    }\n",
       "\n",
       "    .dataframe tbody tr th {\n",
       "        vertical-align: top;\n",
       "    }\n",
       "\n",
       "    .dataframe thead th {\n",
       "        text-align: right;\n",
       "    }\n",
       "</style>\n",
       "<table border=\"1\" class=\"dataframe\">\n",
       "  <thead>\n",
       "    <tr style=\"text-align: right;\">\n",
       "      <th></th>\n",
       "      <th>Tong GDP</th>\n",
       "    </tr>\n",
       "    <tr>\n",
       "      <th>Continent</th>\n",
       "      <th></th>\n",
       "    </tr>\n",
       "  </thead>\n",
       "  <tbody>\n",
       "    <tr>\n",
       "      <th>Africa</th>\n",
       "      <td>1820811</td>\n",
       "    </tr>\n",
       "    <tr>\n",
       "      <th>Asia</th>\n",
       "      <td>24425891</td>\n",
       "    </tr>\n",
       "    <tr>\n",
       "      <th>Europe</th>\n",
       "      <td>19139380</td>\n",
       "    </tr>\n",
       "    <tr>\n",
       "      <th>North America</th>\n",
       "      <td>18238447</td>\n",
       "    </tr>\n",
       "    <tr>\n",
       "      <th>Oceania</th>\n",
       "      <td>1662727</td>\n",
       "    </tr>\n",
       "    <tr>\n",
       "      <th>South America</th>\n",
       "      <td>4141217</td>\n",
       "    </tr>\n",
       "  </tbody>\n",
       "</table>\n",
       "</div>"
      ],
      "text/plain": [
       "               Tong GDP\n",
       "Continent              \n",
       "Africa          1820811\n",
       "Asia           24425891\n",
       "Europe         19139380\n",
       "North America  18238447\n",
       "Oceania         1662727\n",
       "South America   4141217"
      ]
     },
     "execution_count": 24,
     "metadata": {},
     "output_type": "execute_result"
    }
   ],
   "source": [
    "df1.rename(columns = {\"GDP (millions of US$)\": \"Tong GDP\", \"Continent\": \"Chau luc\"}, inplace = True)\n",
    "df1"
   ]
  },
  {
   "cell_type": "code",
   "execution_count": 25,
   "id": "3e7b23c6-ca01-4c87-b460-878254b66718",
   "metadata": {},
   "outputs": [
    {
     "data": {
      "text/html": [
       "<div>\n",
       "<style scoped>\n",
       "    .dataframe tbody tr th:only-of-type {\n",
       "        vertical-align: middle;\n",
       "    }\n",
       "\n",
       "    .dataframe tbody tr th {\n",
       "        vertical-align: top;\n",
       "    }\n",
       "\n",
       "    .dataframe thead th {\n",
       "        text-align: right;\n",
       "    }\n",
       "</style>\n",
       "<table border=\"1\" class=\"dataframe\">\n",
       "  <thead>\n",
       "    <tr style=\"text-align: right;\">\n",
       "      <th></th>\n",
       "      <th>GDP (millions of US$)</th>\n",
       "    </tr>\n",
       "    <tr>\n",
       "      <th>Continent</th>\n",
       "      <th></th>\n",
       "    </tr>\n",
       "  </thead>\n",
       "  <tbody>\n",
       "    <tr>\n",
       "      <th>Africa</th>\n",
       "      <td>6.278659e+04</td>\n",
       "    </tr>\n",
       "    <tr>\n",
       "      <th>Asia</th>\n",
       "      <td>6.784970e+05</td>\n",
       "    </tr>\n",
       "    <tr>\n",
       "      <th>Europe</th>\n",
       "      <td>5.172805e+05</td>\n",
       "    </tr>\n",
       "    <tr>\n",
       "      <th>North America</th>\n",
       "      <td>1.658041e+06</td>\n",
       "    </tr>\n",
       "    <tr>\n",
       "      <th>Oceania</th>\n",
       "      <td>5.542423e+05</td>\n",
       "    </tr>\n",
       "    <tr>\n",
       "      <th>South America</th>\n",
       "      <td>4.601352e+05</td>\n",
       "    </tr>\n",
       "  </tbody>\n",
       "</table>\n",
       "</div>"
      ],
      "text/plain": [
       "               GDP (millions of US$)\n",
       "Continent                           \n",
       "Africa                  6.278659e+04\n",
       "Asia                    6.784970e+05\n",
       "Europe                  5.172805e+05\n",
       "North America           1.658041e+06\n",
       "Oceania                 5.542423e+05\n",
       "South America           4.601352e+05"
      ]
     },
     "execution_count": 25,
     "metadata": {},
     "output_type": "execute_result"
    }
   ],
   "source": [
    "# tính trung bình cộng GDP mỗi châu lục\n",
    "df2 = df.pivot_table(values = \"GDP (millions of US$)\", index = \"Continent\", aggfunc = \"mean\")\n",
    "df2"
   ]
  },
  {
   "cell_type": "code",
   "execution_count": 26,
   "id": "43f08d35-ae0e-4e12-9137-73a37186176d",
   "metadata": {},
   "outputs": [
    {
     "data": {
      "text/html": [
       "<div>\n",
       "<style scoped>\n",
       "    .dataframe tbody tr th:only-of-type {\n",
       "        vertical-align: middle;\n",
       "    }\n",
       "\n",
       "    .dataframe tbody tr th {\n",
       "        vertical-align: top;\n",
       "    }\n",
       "\n",
       "    .dataframe thead th {\n",
       "        text-align: right;\n",
       "    }\n",
       "</style>\n",
       "<table border=\"1\" class=\"dataframe\">\n",
       "  <thead>\n",
       "    <tr style=\"text-align: right;\">\n",
       "      <th></th>\n",
       "      <th>TBC GDP</th>\n",
       "    </tr>\n",
       "    <tr>\n",
       "      <th>Continent</th>\n",
       "      <th></th>\n",
       "    </tr>\n",
       "  </thead>\n",
       "  <tbody>\n",
       "    <tr>\n",
       "      <th>Africa</th>\n",
       "      <td>6.278659e+04</td>\n",
       "    </tr>\n",
       "    <tr>\n",
       "      <th>Asia</th>\n",
       "      <td>6.784970e+05</td>\n",
       "    </tr>\n",
       "    <tr>\n",
       "      <th>Europe</th>\n",
       "      <td>5.172805e+05</td>\n",
       "    </tr>\n",
       "    <tr>\n",
       "      <th>North America</th>\n",
       "      <td>1.658041e+06</td>\n",
       "    </tr>\n",
       "    <tr>\n",
       "      <th>Oceania</th>\n",
       "      <td>5.542423e+05</td>\n",
       "    </tr>\n",
       "    <tr>\n",
       "      <th>South America</th>\n",
       "      <td>4.601352e+05</td>\n",
       "    </tr>\n",
       "  </tbody>\n",
       "</table>\n",
       "</div>"
      ],
      "text/plain": [
       "                    TBC GDP\n",
       "Continent                  \n",
       "Africa         6.278659e+04\n",
       "Asia           6.784970e+05\n",
       "Europe         5.172805e+05\n",
       "North America  1.658041e+06\n",
       "Oceania        5.542423e+05\n",
       "South America  4.601352e+05"
      ]
     },
     "execution_count": 26,
     "metadata": {},
     "output_type": "execute_result"
    }
   ],
   "source": [
    "df2.rename(columns = {\"GDP (millions of US$)\": \"TBC GDP\", \"Continent\": \"Chau luc\"}, inplace = True)\n",
    "df2"
   ]
  },
  {
   "cell_type": "code",
   "execution_count": 27,
   "id": "4e89dab2-129c-4277-b2e8-3c16deae2904",
   "metadata": {},
   "outputs": [
    {
     "data": {
      "text/html": [
       "<div>\n",
       "<style scoped>\n",
       "    .dataframe tbody tr th:only-of-type {\n",
       "        vertical-align: middle;\n",
       "    }\n",
       "\n",
       "    .dataframe tbody tr th {\n",
       "        vertical-align: top;\n",
       "    }\n",
       "\n",
       "    .dataframe thead th {\n",
       "        text-align: right;\n",
       "    }\n",
       "</style>\n",
       "<table border=\"1\" class=\"dataframe\">\n",
       "  <thead>\n",
       "    <tr style=\"text-align: right;\">\n",
       "      <th></th>\n",
       "      <th>Tong GDP</th>\n",
       "      <th>TBC GDP</th>\n",
       "    </tr>\n",
       "    <tr>\n",
       "      <th>Continent</th>\n",
       "      <th></th>\n",
       "      <th></th>\n",
       "    </tr>\n",
       "  </thead>\n",
       "  <tbody>\n",
       "    <tr>\n",
       "      <th>Africa</th>\n",
       "      <td>1820811</td>\n",
       "      <td>6.278659e+04</td>\n",
       "    </tr>\n",
       "    <tr>\n",
       "      <th>Asia</th>\n",
       "      <td>24425891</td>\n",
       "      <td>6.784970e+05</td>\n",
       "    </tr>\n",
       "    <tr>\n",
       "      <th>Europe</th>\n",
       "      <td>19139380</td>\n",
       "      <td>5.172805e+05</td>\n",
       "    </tr>\n",
       "    <tr>\n",
       "      <th>North America</th>\n",
       "      <td>18238447</td>\n",
       "      <td>1.658041e+06</td>\n",
       "    </tr>\n",
       "    <tr>\n",
       "      <th>Oceania</th>\n",
       "      <td>1662727</td>\n",
       "      <td>5.542423e+05</td>\n",
       "    </tr>\n",
       "    <tr>\n",
       "      <th>South America</th>\n",
       "      <td>4141217</td>\n",
       "      <td>4.601352e+05</td>\n",
       "    </tr>\n",
       "  </tbody>\n",
       "</table>\n",
       "</div>"
      ],
      "text/plain": [
       "               Tong GDP       TBC GDP\n",
       "Continent                            \n",
       "Africa          1820811  6.278659e+04\n",
       "Asia           24425891  6.784970e+05\n",
       "Europe         19139380  5.172805e+05\n",
       "North America  18238447  1.658041e+06\n",
       "Oceania         1662727  5.542423e+05\n",
       "South America   4141217  4.601352e+05"
      ]
     },
     "execution_count": 27,
     "metadata": {},
     "output_type": "execute_result"
    }
   ],
   "source": [
    "# Hợp nhất DataFrame \"Tổng GDP\" và \"TBC GDP\"\n",
    "df_concat = pd.concat([df1, df2], axis = 1)\n",
    "df_concat"
   ]
  }
 ],
 "metadata": {
  "kernelspec": {
   "display_name": "Python 3 (ipykernel)",
   "language": "python",
   "name": "python3"
  },
  "language_info": {
   "codemirror_mode": {
    "name": "ipython",
    "version": 3
   },
   "file_extension": ".py",
   "mimetype": "text/x-python",
   "name": "python",
   "nbconvert_exporter": "python",
   "pygments_lexer": "ipython3",
   "version": "3.10.1"
  }
 },
 "nbformat": 4,
 "nbformat_minor": 5
}
